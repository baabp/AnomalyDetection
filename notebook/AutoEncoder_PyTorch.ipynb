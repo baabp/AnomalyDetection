{
 "cells": [
  {
   "cell_type": "markdown",
   "metadata": {},
   "source": [
    "# Autoencoder with 'normal' PyTorch proceduer"
   ]
  },
  {
   "cell_type": "markdown",
   "metadata": {},
   "source": [
    "ref: https://medium.com/pytorch/implementing-an-autoencoder-in-pytorch-19baa22647d1, https://www.kaggle.com/jagadeeshkotra/autoencoders-with-pytorch"
   ]
  },
  {
   "cell_type": "code",
   "execution_count": 1,
   "metadata": {},
   "outputs": [
    {
     "name": "stdout",
     "output_type": "stream",
     "text": [
      "/src\n"
     ]
    }
   ],
   "source": [
    "%cd .."
   ]
  },
  {
   "cell_type": "code",
   "execution_count": 2,
   "metadata": {},
   "outputs": [],
   "source": [
    "import torch\n",
    "import numpy as np\n",
    "\n",
    "import matplotlib.pyplot as plt\n",
    "plt.style.use('seaborn-whitegrid')\n",
    "\n",
    "%matplotlib inline"
   ]
  },
  {
   "cell_type": "code",
   "execution_count": 3,
   "metadata": {},
   "outputs": [],
   "source": [
    "import torch.nn as nn\n",
    "import torchvision\n",
    "from torch import optim"
   ]
  },
  {
   "cell_type": "code",
   "execution_count": 4,
   "metadata": {},
   "outputs": [],
   "source": [
    "from src.models.autoencoder import AutoEncoder, AE"
   ]
  },
  {
   "cell_type": "markdown",
   "metadata": {},
   "source": [
    "## get dataset and dataloader"
   ]
  },
  {
   "cell_type": "code",
   "execution_count": 5,
   "metadata": {},
   "outputs": [],
   "source": [
    "transform = torchvision.transforms.Compose([torchvision.transforms.ToTensor()])\n",
    "\n",
    "train_dataset = torchvision.datasets.MNIST(\n",
    "    root=\"~/torch_datasets\", train=True, transform=transform, download=True\n",
    ")\n",
    "\n",
    "test_dataset = torchvision.datasets.MNIST(\n",
    "    root=\"~/torch_datasets\", train=False, transform=transform, download=True\n",
    ")\n",
    "\n",
    "train_loader = torch.utils.data.DataLoader(\n",
    "    train_dataset, batch_size=128, shuffle=True, num_workers=4, pin_memory=True\n",
    ")\n",
    "\n",
    "test_loader = torch.utils.data.DataLoader(\n",
    "    test_dataset, batch_size=32, shuffle=False, num_workers=4\n",
    ")"
   ]
  },
  {
   "cell_type": "code",
   "execution_count": 6,
   "metadata": {},
   "outputs": [],
   "source": [
    "train_dataset[0][0].shape\n",
    "n_features = 784"
   ]
  },
  {
   "cell_type": "code",
   "execution_count": 7,
   "metadata": {},
   "outputs": [],
   "source": [
    "#  use gpu if available\n",
    "device = torch.device(\"cuda\" if torch.cuda.is_available() else \"cpu\")"
   ]
  },
  {
   "cell_type": "code",
   "execution_count": 8,
   "metadata": {},
   "outputs": [
    {
     "name": "stdout",
     "output_type": "stream",
     "text": [
      "AutoEncoder(\n",
      "  (encoder): Encoder(\n",
      "    (_encode): Sequential(\n",
      "      (0): Linear(in_features=784, out_features=512, bias=True)\n",
      "      (1): Tanh()\n",
      "      (2): Linear(in_features=512, out_features=256, bias=True)\n",
      "      (3): Tanh()\n",
      "      (4): Linear(in_features=256, out_features=128, bias=True)\n",
      "      (5): Tanh()\n",
      "      (6): Linear(in_features=128, out_features=64, bias=True)\n",
      "      (7): Tanh()\n",
      "      (8): Linear(in_features=64, out_features=32, bias=True)\n",
      "      (9): Tanh()\n",
      "      (10): Linear(in_features=32, out_features=16, bias=True)\n",
      "      (11): Tanh()\n",
      "      (12): Linear(in_features=16, out_features=5, bias=True)\n",
      "    )\n",
      "  )\n",
      "  (decoder): Decoder(\n",
      "    (_decode): Sequential(\n",
      "      (0): Linear(in_features=5, out_features=16, bias=True)\n",
      "      (1): Tanh()\n",
      "      (2): Linear(in_features=16, out_features=32, bias=True)\n",
      "      (3): Tanh()\n",
      "      (4): Linear(in_features=32, out_features=64, bias=True)\n",
      "      (5): Tanh()\n",
      "      (6): Linear(in_features=64, out_features=128, bias=True)\n",
      "      (7): Tanh()\n",
      "      (8): Linear(in_features=128, out_features=256, bias=True)\n",
      "      (9): Tanh()\n",
      "      (10): Linear(in_features=256, out_features=512, bias=True)\n",
      "      (11): Tanh()\n",
      "      (12): Linear(in_features=512, out_features=784, bias=True)\n",
      "    )\n",
      "  )\n",
      ")\n"
     ]
    }
   ],
   "source": [
    "# create a model from `AE` autoencoder class\n",
    "# load it to the specified device, either gpu or cpu\n",
    "\n",
    "# model = AE(input_shape=n_features).to(device)\n",
    "model =AutoEncoder(n_features=n_features, hidden_size=5, seed=1, gpu='0').to(device)\n",
    "print(model)"
   ]
  },
  {
   "cell_type": "code",
   "execution_count": 9,
   "metadata": {},
   "outputs": [
    {
     "name": "stdout",
     "output_type": "stream",
     "text": [
      "----------------------------------------------------------------\n",
      "        Layer (type)               Output Shape         Param #\n",
      "================================================================\n",
      "            Linear-1               [-1, 1, 512]         401,920\n",
      "              Tanh-2               [-1, 1, 512]               0\n",
      "            Linear-3               [-1, 1, 256]         131,328\n",
      "              Tanh-4               [-1, 1, 256]               0\n",
      "            Linear-5               [-1, 1, 128]          32,896\n",
      "              Tanh-6               [-1, 1, 128]               0\n",
      "            Linear-7                [-1, 1, 64]           8,256\n",
      "              Tanh-8                [-1, 1, 64]               0\n",
      "            Linear-9                [-1, 1, 32]           2,080\n",
      "             Tanh-10                [-1, 1, 32]               0\n",
      "           Linear-11                [-1, 1, 16]             528\n",
      "             Tanh-12                [-1, 1, 16]               0\n",
      "           Linear-13                 [-1, 1, 5]              85\n",
      "          Encoder-14                 [-1, 1, 5]               0\n",
      "           Linear-15                [-1, 1, 16]              96\n",
      "             Tanh-16                [-1, 1, 16]               0\n",
      "           Linear-17                [-1, 1, 32]             544\n",
      "             Tanh-18                [-1, 1, 32]               0\n",
      "           Linear-19                [-1, 1, 64]           2,112\n",
      "             Tanh-20                [-1, 1, 64]               0\n",
      "           Linear-21               [-1, 1, 128]           8,320\n",
      "             Tanh-22               [-1, 1, 128]               0\n",
      "           Linear-23               [-1, 1, 256]          33,024\n",
      "             Tanh-24               [-1, 1, 256]               0\n",
      "           Linear-25               [-1, 1, 512]         131,584\n",
      "             Tanh-26               [-1, 1, 512]               0\n",
      "           Linear-27               [-1, 1, 784]         402,192\n",
      "          Decoder-28               [-1, 1, 784]               0\n",
      "================================================================\n",
      "Total params: 1,154,965\n",
      "Trainable params: 1,154,965\n",
      "Non-trainable params: 0\n",
      "----------------------------------------------------------------\n",
      "Input size (MB): 0.00\n",
      "Forward/backward pass size (MB): 0.04\n",
      "Params size (MB): 4.41\n",
      "Estimated Total Size (MB): 4.45\n",
      "----------------------------------------------------------------\n"
     ]
    }
   ],
   "source": [
    "from torchsummary import summary\n",
    "summary(model, input_size=(1, n_features))"
   ]
  },
  {
   "cell_type": "code",
   "execution_count": 10,
   "metadata": {},
   "outputs": [],
   "source": [
    "# create an optimizer object\n",
    "# Adam optimizer with learning rate 1e-3\n",
    "optimizer = optim.Adam(model.parameters(), lr=1e-3)\n",
    "\n",
    "# mean-squared error loss\n",
    "criterion = nn.MSELoss()"
   ]
  },
  {
   "cell_type": "code",
   "execution_count": 11,
   "metadata": {},
   "outputs": [
    {
     "name": "stdout",
     "output_type": "stream",
     "text": [
      "epoch : 1/10, loss = 25.759428\n",
      "epoch : 2/10, loss = 21.816825\n",
      "epoch : 3/10, loss = 20.488939\n",
      "epoch : 4/10, loss = 19.916232\n",
      "epoch : 5/10, loss = 19.019100\n",
      "epoch : 6/10, loss = 18.197686\n",
      "epoch : 7/10, loss = 17.442150\n",
      "epoch : 8/10, loss = 16.816875\n",
      "epoch : 9/10, loss = 16.404193\n",
      "epoch : 10/10, loss = 16.094363\n"
     ]
    }
   ],
   "source": [
    "epochs = 10\n",
    "\n",
    "for epoch in range(epochs):\n",
    "    loss = 0\n",
    "    for batch_features, _ in train_loader:\n",
    "        # reshape mini-batch data to [N, 784] matrix\n",
    "        # load it to the active device\n",
    "        batch_features = batch_features.view(-1, 784).to(device)\n",
    "        \n",
    "        # reset the gradients back to zero\n",
    "        # PyTorch accumulates gradients on subsequent backward passes\n",
    "        optimizer.zero_grad()\n",
    "        \n",
    "        # compute reconstructions\n",
    "        outputs = model(batch_features)\n",
    "        \n",
    "        # compute training reconstruction loss\n",
    "        train_loss = criterion(outputs, batch_features)\n",
    "        \n",
    "        # compute accumulated gradients\n",
    "        train_loss.backward()\n",
    "        \n",
    "        # perform parameter update based on current gradients\n",
    "        optimizer.step()\n",
    "        \n",
    "        # add the mini-batch training loss to epoch loss\n",
    "        loss += train_loss.item()\n",
    "    \n",
    "    # compute the epoch training loss\n",
    "    loss = loss / len(train_loader)\n",
    "    \n",
    "    # display the epoch training loss\n",
    "    print(\"epoch : {}/{}, loss = {:.6f}\".format(epoch + 1, epochs, loss))"
   ]
  },
  {
   "cell_type": "code",
   "execution_count": 12,
   "metadata": {},
   "outputs": [
    {
     "data": {
      "text/plain": [
       "torch.Size([96, 784])"
      ]
     },
     "execution_count": 12,
     "metadata": {},
     "output_type": "execute_result"
    }
   ],
   "source": [
    "outputs.shape"
   ]
  },
  {
   "cell_type": "code",
   "execution_count": 13,
   "metadata": {},
   "outputs": [
    {
     "data": {
      "text/plain": [
       "10000"
      ]
     },
     "execution_count": 13,
     "metadata": {},
     "output_type": "execute_result"
    }
   ],
   "source": [
    "model.eval()\n",
    "predictions = []\n",
    "\n",
    "for batch_idx, (batch_features, _) in enumerate(test_loader):\n",
    "        \n",
    "        batch_features = batch_features.view(-1, 784).to(device)\n",
    "\n",
    "        pred = model(batch_features)\n",
    "        \n",
    "        for prediction in pred:\n",
    "            predictions.append(prediction)\n",
    "            \n",
    "        \n",
    "len(predictions)   "
   ]
  },
  {
   "cell_type": "code",
   "execution_count": 14,
   "metadata": {},
   "outputs": [],
   "source": [
    "def show_torch_image(torch_tensor):\n",
    "    plt.imshow(torch_tensor.cpu().numpy().reshape(28, 28), cmap='gray')\n",
    "    plt.show()"
   ]
  },
  {
   "cell_type": "code",
   "execution_count": 15,
   "metadata": {},
   "outputs": [],
   "source": [
    "i=12"
   ]
  },
  {
   "cell_type": "code",
   "execution_count": 16,
   "metadata": {},
   "outputs": [
    {
     "data": {
      "image/png": "[encoded data removed]",
      "text/plain": [
       "<Figure size 432x288 with 1 Axes>"
      ]
     },
     "metadata": {
      "needs_background": "light"
     },
     "output_type": "display_data"
    }
   ],
   "source": [
    "show_torch_image(test_dataset[i][0].detach())"
   ]
  },
  {
   "cell_type": "code",
   "execution_count": 17,
   "metadata": {},
   "outputs": [
    {
     "data": {
      "image/png": "[encoded data removed]",
      "text/plain": [
       "<Figure size 432x288 with 1 Axes>"
      ]
     },
     "metadata": {
      "needs_background": "light"
     },
     "output_type": "display_data"
    }
   ],
   "source": [
    "show_torch_image(predictions[i].detach())"
   ]
  },
  {
   "cell_type": "code",
   "execution_count": null,
   "metadata": {},
   "outputs": [],
   "source": []
  }
 ],
 "metadata": {
  "kernelspec": {
   "display_name": "Python 3",
   "language": "python",
   "name": "python3"
  },
  "language_info": {
   "codemirror_mode": {
    "name": "ipython",
    "version": 3
   },
   "file_extension": ".py",
   "mimetype": "text/x-python",
   "name": "python",
   "nbconvert_exporter": "python",
   "pygments_lexer": "ipython3",
   "version": "3.6.9"
  }
 },
 "nbformat": 4,
 "nbformat_minor": 4
}
