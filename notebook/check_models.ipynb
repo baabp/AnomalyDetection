{
 "cells": [
  {
   "cell_type": "code",
   "execution_count": 1,
   "metadata": {},
   "outputs": [
    {
     "name": "stdout",
     "output_type": "stream",
     "text": [
      "/src\n"
     ]
    }
   ],
   "source": [
    "%cd ../"
   ]
  },
  {
   "cell_type": "code",
   "execution_count": 2,
   "metadata": {},
   "outputs": [],
   "source": [
    "import pandas as pd\n",
    "import tensorflow as tf\n",
    "from sklearn.metrics import roc_auc_score\n",
    "import torch\n",
    "import numpy as np\n",
    "\n",
    "import matplotlib.pyplot as plt\n",
    "plt.style.use('seaborn-whitegrid')\n",
    "\n",
    "%matplotlib inline"
   ]
  },
  {
   "cell_type": "code",
   "execution_count": 3,
   "metadata": {},
   "outputs": [],
   "source": [
    "import os"
   ]
  },
  {
   "cell_type": "code",
   "execution_count": 4,
   "metadata": {},
   "outputs": [
    {
     "name": "stdout",
     "output_type": "stream",
     "text": [
      "WARNING:tensorflow:From /usr/local/lib/python3.6/dist-packages/tensorflow/python/compat/v2_compat.py:96: disable_resource_variables (from tensorflow.python.ops.variable_scope) is deprecated and will be removed in a future version.\n",
      "Instructions for updating:\n",
      "non-resource variables are not supported in the long term\n"
     ]
    }
   ],
   "source": [
    "from zope.dottedname.resolve import resolve\n",
    "\n",
    "from src.datasets.MNIST import MNIST\n",
    "from src.models.DeepADoTS.autoencoder import AutoEncoder\n",
    "from src.models.DeepADoTS.dagmm import DAGMM\n",
    "from src.models.DeepADoTS.rnn_ebm import RecurrentEBM"
   ]
  },
  {
   "cell_type": "code",
   "execution_count": 5,
   "metadata": {},
   "outputs": [
    {
     "name": "stdout",
     "output_type": "stream",
     "text": [
      "True\n"
     ]
    }
   ],
   "source": [
    "print(torch.cuda.is_available())"
   ]
  },
  {
   "cell_type": "code",
   "execution_count": 6,
   "metadata": {},
   "outputs": [],
   "source": [
    "def prepare_dataset(class_name='MNIST.MNIST', train_num=None, test_num=None):\n",
    "    class_name_head = \"src.datasets\"\n",
    "    class_name = class_name_head + '.' + class_name\n",
    "    x_train, y_train, x_test, y_test = resolve(class_name)(seed=0).data()\n",
    "    # Use fewer instances for demonstration purposes\n",
    "    if train_num is not None:\n",
    "        x_train, y_train = x_train[:train_num], y_train[:train_num]\n",
    "    if test_num is not None:\n",
    "        x_test, y_test = x_test[:test_num], y_test[:test_num]\n",
    "    return x_train, y_train, x_test, y_test\n",
    "\n",
    "def exec_autoencoder(x_train, x_test):\n",
    "    model = AutoEncoder(sequence_length=1, num_epochs=40, hidden_size=10, lr=1e-4, gpu=0)\n",
    "    model.fit(x_train)\n",
    "    output = model.predict_val(x_test)\n",
    "    return model, output\n",
    "\n",
    "def exec_dagmm(x_train, x_test):\n",
    "    model = DAGMM(sequence_length=1, num_epochs=40, hidden_size=10, lr=1e-4, gpu=0)\n",
    "    model.fit(x_train)\n",
    "    print('end_fit')\n",
    "    output = model.predict(x_test)\n",
    "    return output\n",
    "\n",
    "def exec_rnn(x_train, x_test):\n",
    "    model = RecurrentEBM(gpu=0)\n",
    "    model.fit(x_train)\n",
    "    print('end_fit')\n",
    "    output = model.predict(x_test)\n",
    "    return output"
   ]
  },
  {
   "cell_type": "code",
   "execution_count": 7,
   "metadata": {},
   "outputs": [
    {
     "name": "stdout",
     "output_type": "stream",
     "text": [
      "True\n",
      "Downloading data from https://storage.googleapis.com/tensorflow/tf-keras-datasets/mnist.npz\n",
      "11493376/11490434 [==============================] - 0s 0us/step\n"
     ]
    }
   ],
   "source": [
    "print(torch.cuda.is_available())\n",
    "x_train, y_train, x_test, y_test = prepare_dataset(train_num=1000, test_num=100)\n",
    "# model, output = exec_autoencoder(x_train, x_test)\n",
    "# output=exec_dagmm(x_train, x_test)\n",
    "# output = exec_rnn(x_train, x_test)\n",
    "# print(output)"
   ]
  },
  {
   "cell_type": "markdown",
   "metadata": {},
   "source": [
    "## check layers"
   ]
  },
  {
   "cell_type": "code",
   "execution_count": 8,
   "metadata": {},
   "outputs": [],
   "source": [
    "from torchsummary import summary"
   ]
  },
  {
   "cell_type": "code",
   "execution_count": 9,
   "metadata": {},
   "outputs": [],
   "source": [
    "n_features = x_train.shape[1]"
   ]
  },
  {
   "cell_type": "code",
   "execution_count": 40,
   "metadata": {},
   "outputs": [],
   "source": [
    "## AutoEncoder\n",
    "from src.models.DeepADoTS.autoencoder import AutoEncoderModule\n",
    "model = AutoEncoderModule(n_features=n_features, sequence_length=1,hidden_size=10, seed=1, gpu=0)"
   ]
  },
  {
   "cell_type": "code",
   "execution_count": null,
   "metadata": {},
   "outputs": [],
   "source": []
  },
  {
   "cell_type": "code",
   "execution_count": 41,
   "metadata": {},
   "outputs": [
    {
     "name": "stdout",
     "output_type": "stream",
     "text": [
      "AutoEncoderModule(\n",
      "  (_encoder): Sequential(\n",
      "    (0): Linear(in_features=784, out_features=512, bias=True)\n",
      "    (1): Tanh()\n",
      "    (2): Linear(in_features=512, out_features=256, bias=True)\n",
      "    (3): Tanh()\n",
      "    (4): Linear(in_features=256, out_features=128, bias=True)\n",
      "    (5): Tanh()\n",
      "    (6): Linear(in_features=128, out_features=64, bias=True)\n",
      "    (7): Tanh()\n",
      "    (8): Linear(in_features=64, out_features=32, bias=True)\n",
      "    (9): Tanh()\n",
      "    (10): Linear(in_features=32, out_features=10, bias=True)\n",
      "  )\n",
      "  (_decoder): Sequential(\n",
      "    (0): Linear(in_features=10, out_features=32, bias=True)\n",
      "    (1): Tanh()\n",
      "    (2): Linear(in_features=32, out_features=64, bias=True)\n",
      "    (3): Tanh()\n",
      "    (4): Linear(in_features=64, out_features=128, bias=True)\n",
      "    (5): Tanh()\n",
      "    (6): Linear(in_features=128, out_features=256, bias=True)\n",
      "    (7): Tanh()\n",
      "    (8): Linear(in_features=256, out_features=512, bias=True)\n",
      "    (9): Tanh()\n",
      "    (10): Linear(in_features=512, out_features=784, bias=True)\n",
      "  )\n",
      ")\n"
     ]
    }
   ],
   "source": [
    "print(model)"
   ]
  },
  {
   "cell_type": "code",
   "execution_count": 44,
   "metadata": {},
   "outputs": [
    {
     "name": "stdout",
     "output_type": "stream",
     "text": [
      "----------------------------------------------------------------\n",
      "        Layer (type)               Output Shape         Param #\n",
      "================================================================\n",
      "            Linear-1                  [10, 512]         401,920\n",
      "              Tanh-2                  [10, 512]               0\n",
      "            Linear-3                  [10, 256]         131,328\n",
      "              Tanh-4                  [10, 256]               0\n",
      "            Linear-5                  [10, 128]          32,896\n",
      "              Tanh-6                  [10, 128]               0\n",
      "            Linear-7                   [10, 64]           8,256\n",
      "              Tanh-8                   [10, 64]               0\n",
      "            Linear-9                   [10, 32]           2,080\n",
      "             Tanh-10                   [10, 32]               0\n",
      "           Linear-11                   [10, 10]             330\n",
      "           Linear-12                   [10, 32]             352\n",
      "             Tanh-13                   [10, 32]               0\n",
      "           Linear-14                   [10, 64]           2,112\n",
      "             Tanh-15                   [10, 64]               0\n",
      "           Linear-16                  [10, 128]           8,320\n",
      "             Tanh-17                  [10, 128]               0\n",
      "           Linear-18                  [10, 256]          33,024\n",
      "             Tanh-19                  [10, 256]               0\n",
      "           Linear-20                  [10, 512]         131,584\n",
      "             Tanh-21                  [10, 512]               0\n",
      "           Linear-22                  [10, 784]         402,192\n",
      "================================================================\n",
      "Total params: 1,154,394\n",
      "Trainable params: 1,154,394\n",
      "Non-trainable params: 0\n",
      "----------------------------------------------------------------\n",
      "Input size (MB): 0.03\n",
      "Forward/backward pass size (MB): 0.36\n",
      "Params size (MB): 4.40\n",
      "Estimated Total Size (MB): 4.80\n",
      "----------------------------------------------------------------\n"
     ]
    }
   ],
   "source": [
    "summary(model, input_size=(1, n_features), batch_size=10, device='cuda')"
   ]
  },
  {
   "cell_type": "code",
   "execution_count": 45,
   "metadata": {},
   "outputs": [],
   "source": [
    "from torch.utils.tensorboard import SummaryWriter"
   ]
  },
  {
   "cell_type": "code",
   "execution_count": 46,
   "metadata": {},
   "outputs": [],
   "source": [
    "# Writer will output to ./runs/ directory by default\n",
    "writer = SummaryWriter()"
   ]
  },
  {
   "cell_type": "code",
   "execution_count": 47,
   "metadata": {},
   "outputs": [],
   "source": [
    "x_train_tensor = torch.from_numpy(x_train.values)\n",
    "device = torch.device('cuda:0')\n",
    "x_train_tensor = x_train_tensor.to(device)"
   ]
  },
  {
   "cell_type": "code",
   "execution_count": 48,
   "metadata": {},
   "outputs": [],
   "source": [
    "writer.add_graph(model, x_train_tensor)\n",
    "writer.close()"
   ]
  },
  {
   "cell_type": "code",
   "execution_count": 49,
   "metadata": {},
   "outputs": [],
   "source": [
    "%load_ext tensorboard"
   ]
  },
  {
   "cell_type": "code",
   "execution_count": 50,
   "metadata": {},
   "outputs": [
    {
     "data": {
      "text/html": [
       "\n",
       "      <iframe id=\"tensorboard-frame-7bff051fa66ad10e\" width=\"100%\" height=\"800\" frameborder=\"0\">\n",
       "      </iframe>\n",
       "      <script>\n",
       "        (function() {\n",
       "          const frame = document.getElementById(\"tensorboard-frame-7bff051fa66ad10e\");\n",
       "          const url = new URL(\"/\", window.location);\n",
       "          url.port = 6006;\n",
       "          frame.src = url;\n",
       "        })();\n",
       "      </script>\n",
       "  "
      ],
      "text/plain": [
       "<IPython.core.display.HTML object>"
      ]
     },
     "metadata": {},
     "output_type": "display_data"
    }
   ],
   "source": [
    "%tensorboard --logdir runs --port 6006 --host 0.0.0.0"
   ]
  },
  {
   "cell_type": "code",
   "execution_count": null,
   "metadata": {},
   "outputs": [],
   "source": []
  }
 ],
 "metadata": {
  "kernelspec": {
   "display_name": "Python 3",
   "language": "python",
   "name": "python3"
  },
  "language_info": {
   "codemirror_mode": {
    "name": "ipython",
    "version": 3
   },
   "file_extension": ".py",
   "mimetype": "text/x-python",
   "name": "python",
   "nbconvert_exporter": "python",
   "pygments_lexer": "ipython3",
   "version": "3.6.9"
  }
 },
 "nbformat": 4,
 "nbformat_minor": 4
}
